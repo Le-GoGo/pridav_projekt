{
 "cells": [
  {
   "cell_type": "code",
   "execution_count": 1,
   "metadata": {
    "colab": {
     "base_uri": "https://localhost:8080/"
    },
    "id": "QpvxSd3mLNK8",
    "outputId": "8209f591-09cf-4afc-bb56-0f9fa6075332"
   },
   "outputs": [],
   "source": [
    "import pandas as pd\n",
    "import numpy as np\n",
    "import re \n",
    "\n",
    "from collections import Counter\n",
    "import spacy #lemmatization \n",
    "#pre spacy treba v terminali doinstalovat 2 prikazy:\n",
    "#pip3 install spacy\n",
    "#python3 -m spacy download en_core_web_sm\n",
    "nlp = spacy.load(\"en_core_web_sm\") #nlp = spacy.load(\"en_core_web_lg\") finalne\n",
    "\n",
    "from sklearn.feature_extraction.text import CountVectorizer\n",
    "from sklearn. feature_extraction.text import TfidfTransformer\n",
    "from sklearn.feature_extraction import text "
   ]
  },
  {
   "cell_type": "code",
   "execution_count": 35,
   "metadata": {
    "id": "dl1Tg7_bMZSb"
   },
   "outputs": [],
   "source": [
    "data = pd.read_csv(\"data_1930_1990.csv\", sep = '\\t', header = None, names = [\"id\",\"year\",\"title\"] ,on_bad_lines='skip')\n",
    "df = data[(data['year'] >= 1970) & (data['year'] <= 1990)]"
   ]
  },
  {
   "cell_type": "code",
   "execution_count": 36,
   "metadata": {},
   "outputs": [],
   "source": [
    "data = (df.groupby([df['year']], group_keys=False)\n",
    "         .apply(lambda x: x.sample(frac = 0.2)))\n",
    "\n",
    "#df1 = (df.groupby([df['daate'].dt.year, df['daate'].dt.month], group_keys=False)\n",
    "         #.apply(lambda x: x.sample(n=10)))"
   ]
  },
  {
   "cell_type": "code",
   "execution_count": 37,
   "metadata": {},
   "outputs": [
    {
     "data": {
      "text/plain": [
       "(1130651, 3)"
      ]
     },
     "execution_count": 37,
     "metadata": {},
     "output_type": "execute_result"
    }
   ],
   "source": [
    "data.shape"
   ]
  },
  {
   "cell_type": "code",
   "execution_count": 34,
   "metadata": {},
   "outputs": [],
   "source": [
    "#kontrola ci sme vybtali z kazdeho roku 20%\n",
    "#print(df.loc[df['year'] == 1987].shape)\n",
    "#print(data.loc[data['year'] == 1987].shape)"
   ]
  },
  {
   "cell_type": "code",
   "execution_count": 38,
   "metadata": {
    "id": "1kDv8cHhMePH"
   },
   "outputs": [],
   "source": [
    "data[\"title\"] = data[\"title\"].astype(str)  #zmenime stlpcec na typ str \n",
    "data['year'] = data['year'].astype('Int64')   #zmenime typ stlpca year na integer"
   ]
  },
  {
   "cell_type": "code",
   "execution_count": 39,
   "metadata": {
    "id": "fKoZN00eMfxl"
   },
   "outputs": [],
   "source": [
    "#preprocessing text\n",
    "def clean_text(text):\n",
    "  text = re.sub(r'[^A-Za-z0-9 ]+',' ', text) #odstranime vsetko okrem pismen, cislic a medzier \n",
    "  return text\n",
    "data[\"title_cleaned\"] = data[\"title\"].str.lower() #zmenime text na male pismena \n",
    "data['title_cleaned'] = data['title_cleaned'].apply(clean_text) #vycistime "
   ]
  },
  {
   "cell_type": "code",
   "execution_count": null,
   "metadata": {},
   "outputs": [],
   "source": [
    "df = data.copy(deep = True)"
   ]
  },
  {
   "cell_type": "code",
   "execution_count": 95,
   "metadata": {},
   "outputs": [],
   "source": [
    "#tuto musime data rozdelit na 3 mensie dataframe po 400 000 zaznamov\n",
    "\n",
    "data = df[:400000]\n",
    "#data = df[400000:800000]\n",
    "#data = df[800000:]"
   ]
  },
  {
   "cell_type": "code",
   "execution_count": 97,
   "metadata": {
    "id": "gZwSHS6WMlXN"
   },
   "outputs": [
    {
     "name": "stderr",
     "output_type": "stream",
     "text": [
      "/var/folders/c2/k13xb47j4r13t6yhdv6xv15c0000gn/T/ipykernel_25914/2638881957.py:1: SettingWithCopyWarning: \n",
      "A value is trying to be set on a copy of a slice from a DataFrame.\n",
      "Try using .loc[row_indexer,col_indexer] = value instead\n",
      "\n",
      "See the caveats in the documentation: https://pandas.pydata.org/pandas-docs/stable/user_guide/indexing.html#returning-a-view-versus-a-copy\n",
      "  data[\"lemma\"] = \"\" #new column - column title after lemmatization\n"
     ]
    }
   ],
   "source": [
    "data[\"lemma\"] = \"\" #new column - column title after lemmatization "
   ]
  },
  {
   "cell_type": "code",
   "execution_count": 98,
   "metadata": {
    "id": "l6T4qWnrMpKe"
   },
   "outputs": [],
   "source": [
    "#pridame stlpec lemmatization po jednotlivych vetach  \n",
    "\n",
    "for index_row, row in data.iterrows():\n",
    "    sentence_lemma = []\n",
    "    #print(index_row, \" \",row['title_cleaned'])\n",
    "    data_tokens_spacy = nlp(row['title_cleaned'])\n",
    "    for token in data_tokens_spacy:   \n",
    "      sentence_lemma.append(token.lemma_)\n",
    "    #print(sentence_lemma)\n",
    "    data.at[index_row,\"lemma\"] = \" \".join(sentence_lemma) \n",
    "    "
   ]
  },
  {
   "cell_type": "code",
   "execution_count": 100,
   "metadata": {
    "id": "SEW7QMocmuWl"
   },
   "outputs": [],
   "source": [
    "#ulozime data do suboru oddelene tabulatorom\n",
    "\n",
    "data.to_csv(\"1970/lemma_1970_90_p1.csv\", sep = '\\t', index = False)\n",
    "#data.to_csv(\"1970/lemma_1970_90_p2.csv\", sep = '\\t', index = False)\n",
    "#data.to_csv(\"1970/lemma_1970_90_p3.csv\", sep = '\\t', index = False)"
   ]
  },
  {
   "cell_type": "code",
   "execution_count": 101,
   "metadata": {},
   "outputs": [],
   "source": [
    "#skombinujeme english a nase stopwords\n",
    "stopwords_table = pd.read_csv('stop_words.txt')\n",
    "custom_stopwords = list(stopwords_table['based'].values)\n",
    "stop_words = text.ENGLISH_STOP_WORDS.union(custom_stopwords)"
   ]
  },
  {
   "cell_type": "code",
   "execution_count": 102,
   "metadata": {},
   "outputs": [
    {
     "name": "stderr",
     "output_type": "stream",
     "text": [
      "/var/folders/c2/k13xb47j4r13t6yhdv6xv15c0000gn/T/ipykernel_25914/1768465911.py:6: SettingWithCopyWarning: \n",
      "A value is trying to be set on a copy of a slice from a DataFrame.\n",
      "Try using .loc[row_indexer,col_indexer] = value instead\n",
      "\n",
      "See the caveats in the documentation: https://pandas.pydata.org/pandas-docs/stable/user_guide/indexing.html#returning-a-view-versus-a-copy\n",
      "  data['lemma_without_stopwords'] = data['lemma'].apply(rem_stop)\n"
     ]
    }
   ],
   "source": [
    "#pridame stlpec z lemma okrem stopwords\n",
    "def rem_stop(text):\n",
    "    return  ' '.join([word for word in text.split() if not word in stop_words])\n",
    "\n",
    "#data['lemma'] = data['lemma'].astype(str)\n",
    "data['lemma_without_stopwords'] = data['lemma'].apply(rem_stop)"
   ]
  },
  {
   "cell_type": "code",
   "execution_count": 103,
   "metadata": {},
   "outputs": [],
   "source": [
    "#vytvorime count vectorizer a urobime vektor dat z lemma\n",
    "cv = CountVectorizer (max_df=0.90,stop_words = stop_words, max_features=10000)\n",
    "word_count_vector = cv.fit_transform(data['lemma'].values.astype('U'))"
   ]
  },
  {
   "cell_type": "code",
   "execution_count": 104,
   "metadata": {},
   "outputs": [
    {
     "data": {
      "text/plain": [
       "TfidfTransformer()"
      ]
     },
     "execution_count": 104,
     "metadata": {},
     "output_type": "execute_result"
    }
   ],
   "source": [
    "#vytvorime tfid model a nafitujeme data z countvectorizer\n",
    "tfidf_transformer = TfidfTransformer(smooth_idf=True,use_idf=True)\n",
    "tfidf_transformer.fit(word_count_vector)"
   ]
  },
  {
   "cell_type": "code",
   "execution_count": 105,
   "metadata": {},
   "outputs": [],
   "source": [
    "#funkcie na triedenie slov podla ich tfidf hodnot\n",
    "def sort_coo(coo_matrix):\n",
    "    tuples = zip(coo_matrix.col, coo_matrix.data)\n",
    "    return sorted(tuples, key=lambda x: (x[1], x[0]), reverse=True)\n",
    "\n",
    "def extract_topn_keywords(feature_names, sorted_items, topn=10):\n",
    "    sorted_items = sorted_items[:topn]\n",
    "    feature_vals = []\n",
    "    for idx, score in sorted_items:\n",
    "        feature_vals.append(feature_names[idx])\n",
    "    return feature_vals"
   ]
  },
  {
   "cell_type": "code",
   "execution_count": 106,
   "metadata": {},
   "outputs": [
    {
     "name": "stderr",
     "output_type": "stream",
     "text": [
      "/var/folders/c2/k13xb47j4r13t6yhdv6xv15c0000gn/T/ipykernel_25914/846251361.py:3: SettingWithCopyWarning: \n",
      "A value is trying to be set on a copy of a slice from a DataFrame.\n",
      "Try using .loc[row_indexer,col_indexer] = value instead\n",
      "\n",
      "See the caveats in the documentation: https://pandas.pydata.org/pandas-docs/stable/user_guide/indexing.html#returning-a-view-versus-a-copy\n",
      "  data['lemma'] = data['lemma'].values.astype('U')\n"
     ]
    }
   ],
   "source": [
    "#ziskame top 5 klucovych slov zo stlpca lemma s najvacsou tfidf hodnotou\n",
    "idf_keywords = []\n",
    "data['lemma'] = data['lemma'].values.astype('U')\n",
    "feature_names = cv.get_feature_names_out()\n",
    "\n",
    "for i in range(data['lemma'].size):\n",
    "    tf_idf_vector = tfidf_transformer.transform(cv.transform([data.iloc[i]['lemma']]))\n",
    "    sorted_items = sort_coo(tf_idf_vector.tocoo())\n",
    "    keywords = extract_topn_keywords(feature_names, sorted_items, 5)\n",
    "    #print(\"ahoj\")\n",
    "    idf_keywords.append(\" \".join(keywords))"
   ]
  },
  {
   "cell_type": "code",
   "execution_count": 107,
   "metadata": {},
   "outputs": [
    {
     "name": "stdout",
     "output_type": "stream",
     "text": [
      "(330651, 6)\n"
     ]
    },
    {
     "data": {
      "text/plain": [
       "330651"
      ]
     },
     "execution_count": 107,
     "metadata": {},
     "output_type": "execute_result"
    }
   ],
   "source": [
    "print(data.shape)\n",
    "len(idf_keywords)\n",
    "#mali by sa rovnat!"
   ]
  },
  {
   "cell_type": "code",
   "execution_count": 108,
   "metadata": {},
   "outputs": [
    {
     "name": "stderr",
     "output_type": "stream",
     "text": [
      "/var/folders/c2/k13xb47j4r13t6yhdv6xv15c0000gn/T/ipykernel_25914/2242405160.py:2: SettingWithCopyWarning: \n",
      "A value is trying to be set on a copy of a slice from a DataFrame.\n",
      "Try using .loc[row_indexer,col_indexer] = value instead\n",
      "\n",
      "See the caveats in the documentation: https://pandas.pydata.org/pandas-docs/stable/user_guide/indexing.html#returning-a-view-versus-a-copy\n",
      "  data['tfidf_keywords'] = idf_keywords\n"
     ]
    },
    {
     "data": {
      "text/html": [
       "<div>\n",
       "<style scoped>\n",
       "    .dataframe tbody tr th:only-of-type {\n",
       "        vertical-align: middle;\n",
       "    }\n",
       "\n",
       "    .dataframe tbody tr th {\n",
       "        vertical-align: top;\n",
       "    }\n",
       "\n",
       "    .dataframe thead th {\n",
       "        text-align: right;\n",
       "    }\n",
       "</style>\n",
       "<table border=\"1\" class=\"dataframe\">\n",
       "  <thead>\n",
       "    <tr style=\"text-align: right;\">\n",
       "      <th></th>\n",
       "      <th>id</th>\n",
       "      <th>year</th>\n",
       "      <th>title</th>\n",
       "      <th>title_cleaned</th>\n",
       "      <th>lemma</th>\n",
       "      <th>lemma_without_stopwords</th>\n",
       "      <th>tfidf_keywords</th>\n",
       "    </tr>\n",
       "  </thead>\n",
       "  <tbody>\n",
       "    <tr>\n",
       "      <th>2661190</th>\n",
       "      <td>3701965</td>\n",
       "      <td>1986</td>\n",
       "      <td>Deferred consent. A new approach for resuscita...</td>\n",
       "      <td>deferred consent  a new approach for resuscita...</td>\n",
       "      <td>defer consent   a new approach for resuscitati...</td>\n",
       "      <td>defer consent resuscitation comatose</td>\n",
       "      <td>comatose consent resuscitation</td>\n",
       "    </tr>\n",
       "    <tr>\n",
       "      <th>1496842</th>\n",
       "      <td>2421014</td>\n",
       "      <td>1986</td>\n",
       "      <td>Intracavernous drug-induced erections in the m...</td>\n",
       "      <td>intracavernous drug induced erections in the m...</td>\n",
       "      <td>intracavernous drug induce erection in the man...</td>\n",
       "      <td>intracavernous drug induce erection male erect...</td>\n",
       "      <td>intracavernous erection erectile 100 dysfunction</td>\n",
       "    </tr>\n",
       "    <tr>\n",
       "      <th>2046176</th>\n",
       "      <td>3020756</td>\n",
       "      <td>1986</td>\n",
       "      <td>A small cell tumor.</td>\n",
       "      <td>a small cell tumor</td>\n",
       "      <td>a small cell tumor</td>\n",
       "      <td>small cell tumor</td>\n",
       "      <td>small tumor cell</td>\n",
       "    </tr>\n",
       "    <tr>\n",
       "      <th>2711807</th>\n",
       "      <td>3757207</td>\n",
       "      <td>1986</td>\n",
       "      <td>External quality assessment of assays of lead ...</td>\n",
       "      <td>external quality assessment of assays of lead ...</td>\n",
       "      <td>external quality assessment of assay of lead i...</td>\n",
       "      <td>external assay lead blood</td>\n",
       "      <td>external lead assay blood</td>\n",
       "    </tr>\n",
       "    <tr>\n",
       "      <th>2886521</th>\n",
       "      <td>3952360</td>\n",
       "      <td>1986</td>\n",
       "      <td>Technical aspects of interstitial hyperthermia.</td>\n",
       "      <td>technical aspects of interstitial hyperthermia</td>\n",
       "      <td>technical aspect of interstitial hyperthermia</td>\n",
       "      <td>technical aspect interstitial hyperthermia</td>\n",
       "      <td>technical interstitial hyperthermia aspect</td>\n",
       "    </tr>\n",
       "    <tr>\n",
       "      <th>2702922</th>\n",
       "      <td>3747280</td>\n",
       "      <td>1986</td>\n",
       "      <td>[A study on the course of the atrioventricular...</td>\n",
       "      <td>a study on the course of the atrioventricular...</td>\n",
       "      <td>a study on the course of the atrioventricula...</td>\n",
       "      <td>course atrioventricular conduction congenital ...</td>\n",
       "      <td>delineation electrophysiologic atrioventricula...</td>\n",
       "    </tr>\n",
       "    <tr>\n",
       "      <th>1909205</th>\n",
       "      <td>2871761</td>\n",
       "      <td>1986</td>\n",
       "      <td>Effects of insulin, adenosine, and prostagland...</td>\n",
       "      <td>effects of insulin  adenosine  and prostagland...</td>\n",
       "      <td>effect of insulin   adenosine   and prostaglan...</td>\n",
       "      <td>insulin adenosine prostaglandin alpha adrenerg...</td>\n",
       "      <td>adipocyte respiration brown adenosine adrenergic</td>\n",
       "    </tr>\n",
       "    <tr>\n",
       "      <th>2523958</th>\n",
       "      <td>3548080</td>\n",
       "      <td>1986</td>\n",
       "      <td>[Measuring cyclosporin in immunosuppressive tr...</td>\n",
       "      <td>measuring cyclosporin in immunosuppressive tr...</td>\n",
       "      <td>measure cyclosporin in immunosuppressive tre...</td>\n",
       "      <td>measure cyclosporin immunosuppressive follow l...</td>\n",
       "      <td>immunosuppressive cyclosporin measure transpla...</td>\n",
       "    </tr>\n",
       "    <tr>\n",
       "      <th>2878277</th>\n",
       "      <td>3943554</td>\n",
       "      <td>1986</td>\n",
       "      <td>TAME stabilizes the cortex and mitotic apparat...</td>\n",
       "      <td>tame stabilizes the cortex and mitotic apparat...</td>\n",
       "      <td>tame stabilize the cortex and mitotic apparatu...</td>\n",
       "      <td>tame stabilize cortex mitotic apparatus sea ur...</td>\n",
       "      <td>stabilize mitotic urchin apparatus sea</td>\n",
       "    </tr>\n",
       "    <tr>\n",
       "      <th>2115072</th>\n",
       "      <td>3095978</td>\n",
       "      <td>1986</td>\n",
       "      <td>[Androgenic aspects of estrogens].</td>\n",
       "      <td>androgenic aspects of estrogens</td>\n",
       "      <td>androgenic aspect of estrogen</td>\n",
       "      <td>androgenic aspect estrogen</td>\n",
       "      <td>androgenic estrogen aspect</td>\n",
       "    </tr>\n",
       "    <tr>\n",
       "      <th>2541360</th>\n",
       "      <td>3567376</td>\n",
       "      <td>1986</td>\n",
       "      <td>[Therapeutic collaboration between physician a...</td>\n",
       "      <td>therapeutic collaboration between physician a...</td>\n",
       "      <td>therapeutic collaboration between physician ...</td>\n",
       "      <td>therapeutic collaboration physician psychoanalyst</td>\n",
       "      <td>collaboration physician therapeutic</td>\n",
       "    </tr>\n",
       "    <tr>\n",
       "      <th>1978289</th>\n",
       "      <td>2946150</td>\n",
       "      <td>1986</td>\n",
       "      <td>[Effect of L-4-thioproline on arrhythmias caus...</td>\n",
       "      <td>effect of l 4 thioproline on arrhythmias caus...</td>\n",
       "      <td>effect of l 4 thioproline on arrhythmias cau...</td>\n",
       "      <td>l 4 thioproline arrhythmias cause myocardial i...</td>\n",
       "      <td>arrhythmias ischemia rabbit myocardial cause</td>\n",
       "    </tr>\n",
       "    <tr>\n",
       "      <th>2768468</th>\n",
       "      <td>3819331</td>\n",
       "      <td>1986</td>\n",
       "      <td>[Retinal detachment caused by late-stage retin...</td>\n",
       "      <td>retinal detachment caused by late stage retin...</td>\n",
       "      <td>retinal detachment cause by late stage retin...</td>\n",
       "      <td>retinal detachment cause late stage retinopath...</td>\n",
       "      <td>prematurity detachment retinopathy retinal late</td>\n",
       "    </tr>\n",
       "    <tr>\n",
       "      <th>6242352</th>\n",
       "      <td>12041072</td>\n",
       "      <td>1986</td>\n",
       "      <td>Couture-Jacquet v. Montreal Children's Hospital.</td>\n",
       "      <td>couture jacquet v  montreal children s hospital</td>\n",
       "      <td>couture jacquet v   montreal child s hospital</td>\n",
       "      <td>couture jacquet v montreal child s hospital</td>\n",
       "      <td>hospital child</td>\n",
       "    </tr>\n",
       "    <tr>\n",
       "      <th>1498070</th>\n",
       "      <td>2422313</td>\n",
       "      <td>1986</td>\n",
       "      <td>Release of decay-accelerating factor (DAF) fro...</td>\n",
       "      <td>release of decay accelerating factor  daf  fro...</td>\n",
       "      <td>release of decay accelerate factor   daf   fro...</td>\n",
       "      <td>release decay accelerate daf cell membrane pho...</td>\n",
       "      <td>accelerate phosphatidylinositol decay phosphol...</td>\n",
       "    </tr>\n",
       "  </tbody>\n",
       "</table>\n",
       "</div>"
      ],
      "text/plain": [
       "               id  year                                              title  \\\n",
       "2661190   3701965  1986  Deferred consent. A new approach for resuscita...   \n",
       "1496842   2421014  1986  Intracavernous drug-induced erections in the m...   \n",
       "2046176   3020756  1986                                A small cell tumor.   \n",
       "2711807   3757207  1986  External quality assessment of assays of lead ...   \n",
       "2886521   3952360  1986    Technical aspects of interstitial hyperthermia.   \n",
       "2702922   3747280  1986  [A study on the course of the atrioventricular...   \n",
       "1909205   2871761  1986  Effects of insulin, adenosine, and prostagland...   \n",
       "2523958   3548080  1986  [Measuring cyclosporin in immunosuppressive tr...   \n",
       "2878277   3943554  1986  TAME stabilizes the cortex and mitotic apparat...   \n",
       "2115072   3095978  1986                 [Androgenic aspects of estrogens].   \n",
       "2541360   3567376  1986  [Therapeutic collaboration between physician a...   \n",
       "1978289   2946150  1986  [Effect of L-4-thioproline on arrhythmias caus...   \n",
       "2768468   3819331  1986  [Retinal detachment caused by late-stage retin...   \n",
       "6242352  12041072  1986   Couture-Jacquet v. Montreal Children's Hospital.   \n",
       "1498070   2422313  1986  Release of decay-accelerating factor (DAF) fro...   \n",
       "\n",
       "                                             title_cleaned  \\\n",
       "2661190  deferred consent  a new approach for resuscita...   \n",
       "1496842  intracavernous drug induced erections in the m...   \n",
       "2046176                                a small cell tumor    \n",
       "2711807  external quality assessment of assays of lead ...   \n",
       "2886521    technical aspects of interstitial hyperthermia    \n",
       "2702922   a study on the course of the atrioventricular...   \n",
       "1909205  effects of insulin  adenosine  and prostagland...   \n",
       "2523958   measuring cyclosporin in immunosuppressive tr...   \n",
       "2878277  tame stabilizes the cortex and mitotic apparat...   \n",
       "2115072                   androgenic aspects of estrogens    \n",
       "2541360   therapeutic collaboration between physician a...   \n",
       "1978289   effect of l 4 thioproline on arrhythmias caus...   \n",
       "2768468   retinal detachment caused by late stage retin...   \n",
       "6242352   couture jacquet v  montreal children s hospital    \n",
       "1498070  release of decay accelerating factor  daf  fro...   \n",
       "\n",
       "                                                     lemma  \\\n",
       "2661190  defer consent   a new approach for resuscitati...   \n",
       "1496842  intracavernous drug induce erection in the man...   \n",
       "2046176                                 a small cell tumor   \n",
       "2711807  external quality assessment of assay of lead i...   \n",
       "2886521      technical aspect of interstitial hyperthermia   \n",
       "2702922    a study on the course of the atrioventricula...   \n",
       "1909205  effect of insulin   adenosine   and prostaglan...   \n",
       "2523958    measure cyclosporin in immunosuppressive tre...   \n",
       "2878277  tame stabilize the cortex and mitotic apparatu...   \n",
       "2115072                      androgenic aspect of estrogen   \n",
       "2541360    therapeutic collaboration between physician ...   \n",
       "1978289    effect of l 4 thioproline on arrhythmias cau...   \n",
       "2768468    retinal detachment cause by late stage retin...   \n",
       "6242352      couture jacquet v   montreal child s hospital   \n",
       "1498070  release of decay accelerate factor   daf   fro...   \n",
       "\n",
       "                                   lemma_without_stopwords  \\\n",
       "2661190               defer consent resuscitation comatose   \n",
       "1496842  intracavernous drug induce erection male erect...   \n",
       "2046176                                   small cell tumor   \n",
       "2711807                          external assay lead blood   \n",
       "2886521         technical aspect interstitial hyperthermia   \n",
       "2702922  course atrioventricular conduction congenital ...   \n",
       "1909205  insulin adenosine prostaglandin alpha adrenerg...   \n",
       "2523958  measure cyclosporin immunosuppressive follow l...   \n",
       "2878277  tame stabilize cortex mitotic apparatus sea ur...   \n",
       "2115072                         androgenic aspect estrogen   \n",
       "2541360  therapeutic collaboration physician psychoanalyst   \n",
       "1978289  l 4 thioproline arrhythmias cause myocardial i...   \n",
       "2768468  retinal detachment cause late stage retinopath...   \n",
       "6242352        couture jacquet v montreal child s hospital   \n",
       "1498070  release decay accelerate daf cell membrane pho...   \n",
       "\n",
       "                                            tfidf_keywords  \n",
       "2661190                     comatose consent resuscitation  \n",
       "1496842   intracavernous erection erectile 100 dysfunction  \n",
       "2046176                                   small tumor cell  \n",
       "2711807                          external lead assay blood  \n",
       "2886521         technical interstitial hyperthermia aspect  \n",
       "2702922  delineation electrophysiologic atrioventricula...  \n",
       "1909205   adipocyte respiration brown adenosine adrenergic  \n",
       "2523958  immunosuppressive cyclosporin measure transpla...  \n",
       "2878277             stabilize mitotic urchin apparatus sea  \n",
       "2115072                         androgenic estrogen aspect  \n",
       "2541360                collaboration physician therapeutic  \n",
       "1978289       arrhythmias ischemia rabbit myocardial cause  \n",
       "2768468    prematurity detachment retinopathy retinal late  \n",
       "6242352                                     hospital child  \n",
       "1498070  accelerate phosphatidylinositol decay phosphol...  "
      ]
     },
     "execution_count": 108,
     "metadata": {},
     "output_type": "execute_result"
    }
   ],
   "source": [
    "#pridame stlpec s vybranymi keywords\n",
    "data['tfidf_keywords'] = idf_keywords\n",
    "data[:15]"
   ]
  },
  {
   "cell_type": "code",
   "execution_count": 109,
   "metadata": {},
   "outputs": [
    {
     "name": "stdout",
     "output_type": "stream",
     "text": [
      "Deferred consent. A new approach for resuscitation research on comatose patients.\n",
      "comatose consent resuscitation\n"
     ]
    }
   ],
   "source": [
    "#overime title a jeho key words\n",
    "print(data.iloc[0]['title'])\n",
    "print(data.iloc[0]['tfidf_keywords'])"
   ]
  },
  {
   "cell_type": "code",
   "execution_count": 110,
   "metadata": {},
   "outputs": [],
   "source": [
    "#ulozime vyslednu tabulku do textoveho suboru\n",
    "data.to_csv(\"1970/1970_90_p1.csv\", sep = '\\t', index = False)\n",
    "#data.to_csv(\"1970/1970_90_p2.csv\", sep = '\\t', index = False)\n",
    "#data.to_csv(\"1970/1970_90_p3.csv\", sep = '\\t', index = False)"
   ]
  },
  {
   "cell_type": "code",
   "execution_count": 111,
   "metadata": {},
   "outputs": [],
   "source": [
    "#nacitame a zlepime 3tabulky\n",
    "df1 = pd.read_csv(\"1970/1970_90_p1.csv\", sep = '\\t' ,on_bad_lines='skip')\n",
    "df2 = pd.read_csv(\"1970/1970_90_p2.csv\", sep = '\\t' ,on_bad_lines='skip')\n",
    "df3 = pd.read_csv(\"1970/1970_90_p3.csv\", sep = '\\t' ,on_bad_lines='skip')\n",
    "\n",
    "df123 = pd.concat([df1, df2, df3])\n",
    "df123"
   ]
  },
  {
   "cell_type": "code",
   "execution_count": 116,
   "metadata": {},
   "outputs": [],
   "source": [
    "#ulozime jednu velku zlepenu tabulku\n",
    "df123.to_csv(\"1970/1970_90.csv\", sep = '\\t', index = False)"
   ]
  }
 ],
 "metadata": {
  "colab": {
   "provenance": []
  },
  "kernelspec": {
   "display_name": "Python 3 (ipykernel)",
   "language": "python",
   "name": "python3"
  },
  "language_info": {
   "codemirror_mode": {
    "name": "ipython",
    "version": 3
   },
   "file_extension": ".py",
   "mimetype": "text/x-python",
   "name": "python",
   "nbconvert_exporter": "python",
   "pygments_lexer": "ipython3",
   "version": "3.9.13"
  }
 },
 "nbformat": 4,
 "nbformat_minor": 1
}
